{
 "cells": [
  {
   "attachments": {},
   "cell_type": "raw",
   "metadata": {
    "vscode": {
     "languageId": "raw"
    }
   },
   "source": [
    "---\n",
    "layout: post\n",
    "title: Data Analytics Feature\n",
    "description: Description of the new data analytics feature \n",
    "---"
   ]
  },
  {
   "cell_type": "markdown",
   "metadata": {},
   "source": [
    "## Sign Up / Login (Facial Recognition)\n",
    "> Lesson to implement user sign-up with facial recognition by capturing multiple images and storing facial markers in a database.\n",
    "\n",
    "### Frontend (JavaScript)\n",
    "Handle user interactions for Sign-Up and Login using facial recognition.\n",
    "\n",
    "#### **Sign-Up Flow:**\n",
    "* Prompt the user to allow camera access.\n",
    "* Capture multiple images of the user's face from different angles.\n",
    "* Display a preview of the captured images to confirm.\n",
    "* Send the images to the backend via an API call to `/user/facial/store`.\n",
    "* Show success or error messages based on the backend response.\n",
    "\n",
    "#### **Login Flow:**\n",
    "* Automatically prompt for camera access when the login page loads.\n",
    "* Capture a single image of the user's face.\n",
    "* Send the image to the backend via an API call to `/user/facial/recognize`.\n",
    "* If the backend returns a match, log the user in and issue a JWT.\n",
    "* If no match is found, prompt the user to try again or log in manually.\n",
    "\n",
    "### Backend (Python, Flask & TensorFlow)\n",
    "Process images, extract features, and store user data.\n",
    "\n",
    "### Import requirements\n",
    "* tensorflow - Used for deep learning and extracting facial embeddings.\n",
    "* opencv (cv2) - Processes images, including reading and resizing.\n",
    "* face_recognition - Simplifies face detection and comparison."
   ]
  },
  {
   "cell_type": "markdown",
   "metadata": {},
   "source": [
    "### API Structure\n",
    "\n",
    "**Facial Store Endpoint** (`/user/facial/store`)\n",
    "  - Accepts image data from frontend (base64).\n",
    "  - Saves the images to local storagethen.\n",
    "  - Model call to extract and stores facial features.\n",
    "    - Use a pre-trained model (FaceNet or similar) to extract embeddings.\n",
    "    - Convert embeddings into a storable JSON format.\n",
    "  - Model call to store user data and embeddings in the database for future authentication.\n",
    "    - Modify SQLAlchemy `User` model to include a `facial_data` JSON attribute.\n",
    "    - Store the user's embeddings alongside other user details.\n",
    "  - Returns success response if stored correctly.\n",
    "\n",
    "* **Facial Recognition Endpoint** (`/user/facial/recognize`)\n",
    "  - Accepts a new image for authentication from frontend (base64).\n",
    "  - Model call to compare logic to User saved embeddings.\n",
    "  - Returns user identity if matched or a prompt for login if unknown.\n",
    "\n",
    "### Model Code\n",
    "\n",
    "* **Model Logic**\n",
    "  - Preprocess images before extracting embeddings.\n",
    "  - Generate facial embeddings using deep learning.\n",
    "  - Compare new embeddings to stored embeddings in the database.\n",
    "  - Implement similarity scoring (cosine distance, Euclidean distance, etc.).\n",
    "\n",
    "* **Database Storage**\n",
    "  - Update `User` model to store facial embeddings as JSON.\n",
    "  - Ensure database indexing for efficient lookup.\n",
    "  - Add migration script to update schema if necessary.\n",
    "\n"
   ]
  },
  {
   "cell_type": "markdown",
   "metadata": {},
   "source": []
  }
 ],
 "metadata": {
  "kernelspec": {
   "display_name": "base",
   "language": "python",
   "name": "python3"
  },
  "language_info": {
   "codemirror_mode": {
    "name": "ipython",
    "version": 3
   },
   "file_extension": ".py",
   "mimetype": "text/x-python",
   "name": "python",
   "nbconvert_exporter": "python",
   "pygments_lexer": "ipython3",
   "version": "3.11.7"
  },
  "orig_nbformat": 4
 },
 "nbformat": 4,
 "nbformat_minor": 2
}
