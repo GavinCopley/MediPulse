{
 "cells": [
  {
   "attachments": {},
   "cell_type": "raw",
   "metadata": {
    "vscode": {
     "languageId": "raw"
    }
   },
   "source": [
    "---\n",
    "layout: notebookbase\n",
    "title: Data Analytics Feature\n",
    "description: Description of the new data analytics feature \n",
    "permalink: /notebooks/data-analytics/\n",
    "---"
   ]
  },
  {
   "cell_type": "markdown",
   "metadata": {},
   "source": [
    "# Hospital Data Analytics \n",
    "\n",
    "> Build a dashboard to load, display, filter, and visualize hospital-related data from a pre-cleaned CSV via a Flask API.\n",
    "\n",
    "---\n",
    "\n",
    "## Frontend (HTML + JavaScript + TailwindCSS)\n",
    "\n",
    "This feature loads hospital data from a Flask backend that serves a CSV file converted to JSON. The frontend supports dynamic filtering and visual analysis.\n",
    "\n",
    "### Dashboard Functionality\n",
    "\n",
    "1. **Load Dataset**  \n",
    "   - Data is fetched on page load from a backend endpoint:  \n",
    "     `GET /api/analytics`  \n",
    "   - Uses `fetch()` with async/await and handles status states (loading, error, empty).\n",
    "\n",
    "2. **Data Display**\n",
    "   - Table rendering with headers auto-generated from dataset keys\n",
    "   - Dynamic row creation using JavaScript\n",
    "   - Responsive design using TailwindCSS classes\n",
    "\n",
    "3. **Filtering Logic**\n",
    "   - Filter by:\n",
    "     - `Hospital`\n",
    "     - `Procedure`\n",
    "     - `Rating`\n",
    "   - Dynamic population of filter options based on dataset\n",
    "   - Apply/reset filters to update the table content\n",
    "\n",
    "4. **User Experience Enhancements**\n",
    "   - Status message panel (`loading`, `error`, `no data found`)\n",
    "   - Smooth transitions and hover effects\n",
    "   - Graceful fallback when no matching data is found\n",
    "\n",
    "---\n",
    "\n",
    "## Backend (Flask + Pandas)\n",
    "\n",
    "The Flask backend serves the hospital dataset from a static CSV file. The CSV file's data was cleaned using Pandas.\n",
    "\n",
    "### API Endpoint\n",
    "\n",
    "#### `/api/analytics` (GET)\n",
    "\n",
    "- Reads from: `data/hospitaldatamodified.csv`\n",
    "- Returns JSON response:\n",
    "```json\n",
    "{\n",
    "  \"success\": true,\n",
    "  \"count\": 1000,\n",
    "  \"data\": [ { \"HOSPITAL\": \"...\", \"PROCEDURE\": \"...\", \"RATING\": 4.5, ... } ]\n",
    "}\n"
   ]
  },
  {
   "cell_type": "markdown",
   "metadata": {},
   "source": []
  }
 ],
 "metadata": {
  "kernelspec": {
   "display_name": "base",
   "language": "python",
   "name": "python3"
  },
  "language_info": {
   "codemirror_mode": {
    "name": "ipython",
    "version": 3
   },
   "file_extension": ".py",
   "mimetype": "text/x-python",
   "name": "python",
   "nbconvert_exporter": "python",
   "pygments_lexer": "ipython3",
   "version": "3.11.7"
  },
  "orig_nbformat": 4
 },
 "nbformat": 4,
 "nbformat_minor": 2
}
