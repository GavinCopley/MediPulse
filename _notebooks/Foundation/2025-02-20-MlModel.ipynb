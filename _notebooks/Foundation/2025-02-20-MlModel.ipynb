{
 "cells": [
  {
   "attachments": {},
   "cell_type": "raw",
   "metadata": {
    "vscode": {
     "languageId": "raw"
    }
   },
   "source": [
    "---\n",
    "layout: notebookbase\n",
    "title: MLmodels and Data Analytics\n",
    "description: Description of teh functionality of the ML model\n",
    "permalink: /notebooks/mlmodel/\n",
    "---"
   ]
  },
  {
   "cell_type": "markdown",
   "metadata": {},
   "source": [
    "Below is an image displaying 2 user pathways: One who is registered to MediPulse, and one who isn't. Their characteristics are described and their use of our platform is gone in depth through the use of things they see (frontend) and things they don't (backend)."
   ]
  },
  {
   "cell_type": "code",
   "execution_count": null,
   "metadata": {
    "vscode": {
     "languageId": "markdown"
    }
   },
   "outputs": [],
   "source": [
    "The following diagram illustrates the journey of two different users interacting with MediPulse: \n",
    "one who has completed registration and one who has not. It highlights their unique attributes and \n",
    "provides a detailed walkthrough of their experiences on our platform, showcasing both the visible \n",
    "interface elements and the underlying backend processes that support their actions."
   ]
  },
  {
   "cell_type": "markdown",
   "metadata": {},
   "source": [
    "<li><img src=\"images/figma1.png\" alt=\"pic1\"></li>"
   ]
  }
 ],
 "metadata": {
  "kernelspec": {
   "display_name": "base",
   "language": "python",
   "name": "python3"
  },
  "language_info": {
   "codemirror_mode": {
    "name": "ipython",
    "version": 3
   },
   "file_extension": ".py",
   "mimetype": "text/x-python",
   "name": "python",
   "nbconvert_exporter": "python",
   "pygments_lexer": "ipython3",
   "version": "3.11.7"
  },
  "orig_nbformat": 4
 },
 "nbformat": 4,
 "nbformat_minor": 2
}
