{
 "cells": [
  {
   "attachments": {},
   "cell_type": "raw",
   "metadata": {
    "vscode": {
     "languageId": "raw"
    }
   },
   "source": [
    "---\n",
    "layout: notebookbase\n",
    "title: Data Analytics Feature\n",
    "description: Description of the new data analytics feature \n",
    "permalink: /notebooks/pandas\n",
    "---"
   ]
  },
  {
   "cell_type": "markdown",
   "metadata": {},
   "source": [
    "## Sign Up / Login (Facial Recognition)\n",
    "> Lesson to implement user sign-up with facial recognition by capturing multiple images and storing facial markers in a database.\n",
    "\n",
    "### Frontend (JavaScript+Styling)\n",
    "Use a pre-cleaned static dataset (CSV format cleaned using pandas) loaded directly into the application.\n",
    "#### **Dashboard Functionality:**\n",
    "1. Load static dataset on page initialization or user action.\n",
    "2. Parse and process the data using JavaScript (or a library like D3.js, Chart.js, or Plotly).\n",
    "3. Display summarized insights such as totals, averages, and distributions.\n",
    "4. Create interactive visualizations like:\n",
    "    1. Line charts for trends over time\n",
    "    2. Bar charts for comparisons\n",
    "    3. Pie charts for categorical breakdowns\n",
    "5. Allow the user to filter data (e.g., by date range, category).\n",
    "6. Display loading indicators and error messages for data issues or failed loads.\n",
    "\n",
    "\n",
    "### Backend (Python, Flask & TensorFlow)\n",
    "Process images, extract features, and store user data.\n",
    "\n",
    "### Import requirements\n",
    "* tensorflow - Used for deep learning and extracting facial embeddings.\n",
    "* opencv (cv2) - Processes images, including reading and resizing.\n",
    "* face_recognition - Simplifies face detection and comparison."
   ]
  },
  {
   "cell_type": "markdown",
   "metadata": {},
   "source": [
    "### API Structure\n",
    "\n",
    "**Facial Store Endpoint** (`/user/facial/store`)\n",
    "  - Accepts image data from frontend (base64).\n",
    "  - Saves the images to local storagethen.\n",
    "  - Model call to extract and stores facial features.\n",
    "    - Use a pre-trained model (FaceNet or similar) to extract embeddings.\n",
    "    - Convert embeddings into a storable JSON format.\n",
    "  - Model call to store user data and embeddings in the database for future authentication.\n",
    "    - Modify SQLAlchemy `User` model to include a `facial_data` JSON attribute.\n",
    "    - Store the user's embeddings alongside other user details.\n",
    "  - Returns success response if stored correctly.\n",
    "\n",
    "* **Facial Recognition Endpoint** (`/user/facial/recognize`)\n",
    "  - Accepts a new image for authentication from frontend (base64).\n",
    "  - Model call to compare logic to User saved embeddings.\n",
    "  - Returns user identity if matched or a prompt for login if unknown.\n",
    "\n",
    "### Model Code\n",
    "\n",
    "* **Model Logic**\n",
    "  - Preprocess images before extracting embeddings.\n",
    "  - Generate facial embeddings using deep learning.\n",
    "  - Compare new embeddings to stored embeddings in the database.\n",
    "  - Implement similarity scoring (cosine distance, Euclidean distance, etc.).\n",
    "\n",
    "* **Database Storage**\n",
    "  - Update `User` model to store facial embeddings as JSON.\n",
    "  - Ensure database indexing for efficient lookup.\n",
    "  - Add migration script to update schema if necessary.\n",
    "\n"
   ]
  },
  {
   "cell_type": "markdown",
   "metadata": {},
   "source": []
  }
 ],
 "metadata": {
  "kernelspec": {
   "display_name": "base",
   "language": "python",
   "name": "python3"
  },
  "language_info": {
   "codemirror_mode": {
    "name": "ipython",
    "version": 3
   },
   "file_extension": ".py",
   "mimetype": "text/x-python",
   "name": "python",
   "nbconvert_exporter": "python",
   "pygments_lexer": "ipython3",
   "version": "3.11.7"
  },
  "orig_nbformat": 4
 },
 "nbformat": 4,
 "nbformat_minor": 2
}
